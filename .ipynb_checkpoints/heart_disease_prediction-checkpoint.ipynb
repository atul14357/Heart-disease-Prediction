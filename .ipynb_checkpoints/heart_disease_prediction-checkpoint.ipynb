{
 "cells": [
  {
   "cell_type": "code",
   "execution_count": null,
   "id": "4866b0e8-db91-4ad2-b94d-367a21ea29f7",
   "metadata": {},
   "outputs": [],
   "source": [
    "# ==============================================\n",
    "# 1. Import Libraries\n",
    "# ==============================================\n",
    "import pandas as pd\n",
    "import numpy as np\n",
    "import matplotlib.pyplot as plt\n",
    "import seaborn as sns\n",
    "\n",
    "from sklearn.preprocessing import StandardScaler, LabelEncoder\n",
    "from sklearn.model_selection import train_test_split, GridSearchCV\n",
    "from sklearn.linear_model import LogisticRegression\n",
    "from sklearn.ensemble import RandomForestClassifier\n",
    "from sklearn.svm import SVC\n",
    "from sklearn.metrics import classification_report, confusion_matrix\n",
    "\n",
    "import pickle"
   ]
  },
  {
   "cell_type": "code",
   "execution_count": null,
   "id": "abcdcf30-a231-4f5a-92fa-4433480b24bc",
   "metadata": {},
   "outputs": [],
   "source": [
    "# ==============================================\n",
    "# 2. Load Dataset\n",
    "# ==============================================\n",
    "df = pd.read_csv(\"heart.csv\")\n",
    "df.head()"
   ]
  },
  {
   "cell_type": "code",
   "execution_count": null,
   "id": "581cc75e-3284-48ba-8827-606c8f21f6b5",
   "metadata": {},
   "outputs": [],
   "source": [
    "# ==============================================\n",
    "# 3. Exploratory Data Analysis (EDA)\n",
    "# ==============================================\n",
    "# Check dataset info\n",
    "df.info()\n",
    "\n",
    "# Summary statistics\n",
    "df.describe()\n",
    "\n",
    "# Check null values\n",
    "df.isnull().sum()\n",
    "\n",
    "# Correlation heatmap\n",
    "plt.figure(figsize=(12,8))\n",
    "sns.heatmap(df.corr(), annot=True, cmap='coolwarm')\n",
    "plt.title(\"Feature Correlation\")\n",
    "plt.show()\n",
    "\n",
    "# Distribution of target\n",
    "sns.countplot(x='target', data=df)\n",
    "plt.title(\"Target Distribution\")\n",
    "plt.show()\n",
    "\n",
    "# High-impact feature visualizations\n",
    "sns.boxplot(x='target', y='chol', data=df)\n",
    "plt.title(\"Cholesterol vs Heart Disease\")\n",
    "plt.show()\n",
    "\n",
    "sns.boxplot(x='target', y='thalach', data=df)\n",
    "plt.title(\"Max Heart Rate vs Heart Disease\")\n",
    "plt.show()\n",
    "\n",
    "sns.countplot(x='cp', hue='target', data=df)\n",
    "plt.title(\"Chest Pain Type vs Heart Disease\")\n",
    "plt.show()"
   ]
  },
  {
   "cell_type": "code",
   "execution_count": null,
   "id": "106018d8-90d1-4355-91ab-77bf64e82d39",
   "metadata": {},
   "outputs": [],
   "source": [
    "# ==============================================\n",
    "# 4. Data Preprocessing & Feature Engineering\n",
    "# ==============================================\n",
    "# Encode categorical variables\n",
    "le = LabelEncoder()\n",
    "df['sex'] = le.fit_transform(df['sex'])\n",
    "df['cp'] = le.fit_transform(df['cp'])\n",
    "df['thal'] = le.fit_transform(df['thal'])\n",
    "\n",
    "# Separate features and target\n",
    "X = df.drop('target', axis=1)\n",
    "y = df['target']\n",
    "\n",
    "# Scale numeric features\n",
    "scaler = StandardScaler()\n",
    "X_scaled = scaler.fit_transform(X)"
   ]
  },
  {
   "cell_type": "code",
   "execution_count": null,
   "id": "421445f5-6e9a-432f-840f-9ca194b0253a",
   "metadata": {},
   "outputs": [],
   "source": [
    "# ==============================================\n",
    "# 5. Split Data into Train/Test\n",
    "# ==============================================\n",
    "X_train, X_test, y_train, y_test = train_test_split(X_scaled, y, test_size=0.2, random_state=42)\n"
   ]
  },
  {
   "cell_type": "code",
   "execution_count": null,
   "id": "4d45e93d-acc8-4c5a-bf12-b1db0012f8f8",
   "metadata": {},
   "outputs": [],
   "source": [
    "# ==============================================\n",
    "# 6. Model Training & Hyperparameter Tuning\n",
    "# ==============================================\n",
    "models = {\n",
    "    \"Logistic Regression\": LogisticRegression(),\n",
    "    \"Random Forest\": RandomForestClassifier(),\n",
    "    \"SVM\": SVC()\n",
    "}\n",
    "\n",
    "params = {\n",
    "    \"Logistic Regression\": {\"C\": [0.1, 1, 10]},\n",
    "    \"Random Forest\": {\"n_estimators\": [100, 200], \"max_depth\": [4, 6, 8]},\n",
    "    \"SVM\": {\"C\": [0.1, 1, 10], \"kernel\": [\"linear\", \"rbf\"]}\n",
    "}\n",
    "\n",
    "best_models = {}\n",
    "\n",
    "for name in models:\n",
    "    print(f\"--- Training {name} ---\")\n",
    "    clf = GridSearchCV(models[name], params[name], cv=5, scoring='f1')\n",
    "    clf.fit(X_train, y_train)\n",
    "    \n",
    "    y_pred = clf.predict(X_test)\n",
    "    \n",
    "    print(classification_report(y_test, y_pred))\n",
    "    \n",
    "    # Confusion Matrix\n",
    "    cm = confusion_matrix(y_test, y_pred)\n",
    "    sns.heatmap(cm, annot=True, fmt='d', cmap='Blues')\n",
    "    plt.title(f\"{name} Confusion Matrix\")\n",
    "    plt.xlabel(\"Predicted\")\n",
    "    plt.ylabel(\"Actual\")\n",
    "    plt.show()\n",
    "    \n",
    "    best_models[name] = clf.best_estimator_\n",
    "\n",
    "# Save the best model (Random Forest as example)\n",
    "pickle.dump(best_models[\"Random Forest\"], open(\"best_model.pkl\", \"wb\"))"
   ]
  },
  {
   "cell_type": "code",
   "execution_count": null,
   "id": "c1f7d515-d3c6-4225-9a2b-6e40bae6c61d",
   "metadata": {},
   "outputs": [],
   "source": [
    "# ==============================================\n",
    "# 7. Feature Importance (Random Forest)\n",
    "# ==============================================\n",
    "importances = best_models[\"Random Forest\"].feature_importances_\n",
    "features = X.columns\n",
    "feat_importance = pd.Series(importances, index=features).sort_values(ascending=False)\n",
    "\n",
    "plt.figure(figsize=(10,6))\n",
    "sns.barplot(x=feat_importance, y=feat_importance.index)\n",
    "plt.title(\"Feature Importance (Random Forest)\")\n",
    "plt.show()\n"
   ]
  },
  {
   "cell_type": "code",
   "execution_count": null,
   "id": "75a5ddd6-0c62-48c3-838f-8ea2575a7f0e",
   "metadata": {},
   "outputs": [],
   "source": [
    "# ==============================================\n",
    "# 8. Prediction Function\n",
    "# ==============================================\n",
    "def predict_heart_disease(model, input_data):\n",
    "    input_array = np.array(input_data).reshape(1, -1)\n",
    "    prediction = model.predict(input_array)\n",
    "    return \"Heart Disease Detected\" if prediction[0]==1 else \"No Heart Disease\"\n",
    "\n",
    "# Example usage\n",
    "example_input = X_test[0]  # First test record\n",
    "predict_heart_disease(best_models[\"Random Forest\"], example_input)"
   ]
  },
  {
   "cell_type": "code",
   "execution_count": null,
   "id": "5281a106-a0d8-4bf2-be15-e1fd129261bf",
   "metadata": {},
   "outputs": [],
   "source": [
    "# ==============================================\n",
    "# 9. Save Preprocessing Objects (Optional)\n",
    "# ==============================================\n",
    "# Save scaler for deployment\n",
    "pickle.dump(scaler, open(\"scaler.pkl\", \"wb\"))"
   ]
  }
 ],
 "metadata": {
  "kernelspec": {
   "display_name": "Python 3 (ipykernel)",
   "language": "python",
   "name": "python3"
  },
  "language_info": {
   "codemirror_mode": {
    "name": "ipython",
    "version": 3
   },
   "file_extension": ".py",
   "mimetype": "text/x-python",
   "name": "python",
   "nbconvert_exporter": "python",
   "pygments_lexer": "ipython3",
   "version": "3.12.7"
  }
 },
 "nbformat": 4,
 "nbformat_minor": 5
}
